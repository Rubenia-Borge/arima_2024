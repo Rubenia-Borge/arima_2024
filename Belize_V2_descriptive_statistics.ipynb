{
 "cells": [
  {
   "cell_type": "code",
   "execution_count": 225,
   "id": "6001340b",
   "metadata": {},
   "outputs": [],
   "source": [
    "################ EXPERIMENT BELIZE"
   ]
  },
  {
   "cell_type": "code",
   "execution_count": 226,
   "id": "7e711552",
   "metadata": {},
   "outputs": [],
   "source": [
    "# A model to predict Tuberculosis Disease in the country of Belize"
   ]
  },
  {
   "cell_type": "code",
   "execution_count": 227,
   "id": "69e6d275",
   "metadata": {},
   "outputs": [
    {
     "name": "stdout",
     "output_type": "stream",
     "text": [
      "year\n",
      "1980-01-01     21\n",
      "1981-01-01     33\n",
      "1982-01-01     44\n",
      "1983-01-01    140\n",
      "1984-01-01     35\n",
      "Name: cases, dtype: int64\n"
     ]
    }
   ],
   "source": [
    "# Dataset\n",
    "# Load data as a series and visualize data\n",
    "# Load the data as a series\n",
    "# Plot to see the trend\n",
    "\n",
    "from pandas import read_csv\n",
    "#from pandas import datetime\n",
    "from matplotlib import pyplot\n",
    "from datetime import datetime\n",
    "\n",
    "series = read_csv('belize_tb_data.csv', header=0, parse_dates=[0], index_col=0, squeeze=True)\n",
    "print(series.head())\n"
   ]
  },
  {
   "cell_type": "code",
   "execution_count": 228,
   "id": "4fe0b113",
   "metadata": {},
   "outputs": [
    {
     "data": {
      "image/png": "[encoded data removed]",
      "text/plain": [
       "<Figure size 432x288 with 1 Axes>"
      ]
     },
     "metadata": {
      "needs_background": "light"
     },
     "output_type": "display_data"
    }
   ],
   "source": [
    "# Import the matplotlib.pyplot submodule and name it plt\n",
    "import matplotlib.pyplot as plt\n",
    "\n",
    "# Create a Figure and an Axes with plt.subplots\n",
    "fig, ax = plt.subplots()\n",
    "ax.plot(series)\n",
    "ax.set_xlabel(\"Year\")\n",
    "ax.set_ylabel(\"Number of Cases\")\n",
    "ax.set_title(\"Number of Cases of Tuberculosis in Belize\")\n",
    "\n",
    "# Save the plot as a PNG, JPEG and PDF files\n",
    "plt.savefig(\"output/belize1p.png\")\n",
    "# Call the show function\n",
    "plt.show()"
   ]
  },
  {
   "cell_type": "code",
   "execution_count": 217,
   "id": "3bfdd76d",
   "metadata": {},
   "outputs": [
    {
     "data": {
      "text/plain": [
       "<Figure size 432x288 with 0 Axes>"
      ]
     },
     "metadata": {},
     "output_type": "display_data"
    }
   ],
   "source": [
    "\n",
    "#plt.savefig(\"output/belize1j.jpg\")\n",
    "#plt.savefig(\"output/belize1df.pdf\")"
   ]
  },
  {
   "cell_type": "code",
   "execution_count": 218,
   "id": "86e47506",
   "metadata": {},
   "outputs": [
    {
     "data": {
      "text/plain": [
       "year\n",
       "1980-01-01     21\n",
       "1981-01-01     33\n",
       "1982-01-01     44\n",
       "1983-01-01    140\n",
       "1984-01-01     35\n",
       "Name: cases, dtype: int64"
      ]
     },
     "execution_count": 218,
     "metadata": {},
     "output_type": "execute_result"
    }
   ],
   "source": [
    "series.head()"
   ]
  },
  {
   "cell_type": "code",
   "execution_count": 219,
   "id": "6e4d6c26",
   "metadata": {},
   "outputs": [
    {
     "data": {
      "text/plain": [
       "count     42.000000\n",
       "mean      81.761905\n",
       "std       34.277782\n",
       "min       21.000000\n",
       "25%       60.000000\n",
       "50%       84.500000\n",
       "75%      103.500000\n",
       "max      145.000000\n",
       "Name: cases, dtype: float64"
      ]
     },
     "execution_count": 219,
     "metadata": {},
     "output_type": "execute_result"
    }
   ],
   "source": [
    "series.describe()"
   ]
  },
  {
   "cell_type": "code",
   "execution_count": 220,
   "id": "a1a406c6",
   "metadata": {},
   "outputs": [],
   "source": [
    "# Transform from series to dataset to make the visualizations for statistical analysis\n",
    "\n",
    "# Make it a dataframe\n",
    "df = series.to_frame()"
   ]
  },
  {
   "cell_type": "code",
   "execution_count": 110,
   "id": "25d7995c",
   "metadata": {},
   "outputs": [
    {
     "data": {
      "text/html": [
       "<div>\n",
       "<style scoped>\n",
       "    .dataframe tbody tr th:only-of-type {\n",
       "        vertical-align: middle;\n",
       "    }\n",
       "\n",
       "    .dataframe tbody tr th {\n",
       "        vertical-align: top;\n",
       "    }\n",
       "\n",
       "    .dataframe thead th {\n",
       "        text-align: right;\n",
       "    }\n",
       "</style>\n",
       "<table border=\"1\" class=\"dataframe\">\n",
       "  <thead>\n",
       "    <tr style=\"text-align: right;\">\n",
       "      <th></th>\n",
       "      <th>cases</th>\n",
       "    </tr>\n",
       "    <tr>\n",
       "      <th>year</th>\n",
       "      <th></th>\n",
       "    </tr>\n",
       "  </thead>\n",
       "  <tbody>\n",
       "    <tr>\n",
       "      <th>1980-01-01</th>\n",
       "      <td>21</td>\n",
       "    </tr>\n",
       "    <tr>\n",
       "      <th>1981-01-01</th>\n",
       "      <td>33</td>\n",
       "    </tr>\n",
       "    <tr>\n",
       "      <th>1982-01-01</th>\n",
       "      <td>44</td>\n",
       "    </tr>\n",
       "    <tr>\n",
       "      <th>1983-01-01</th>\n",
       "      <td>140</td>\n",
       "    </tr>\n",
       "    <tr>\n",
       "      <th>1984-01-01</th>\n",
       "      <td>35</td>\n",
       "    </tr>\n",
       "  </tbody>\n",
       "</table>\n",
       "</div>"
      ],
      "text/plain": [
       "            cases\n",
       "year             \n",
       "1980-01-01     21\n",
       "1981-01-01     33\n",
       "1982-01-01     44\n",
       "1983-01-01    140\n",
       "1984-01-01     35"
      ]
     },
     "execution_count": 110,
     "metadata": {},
     "output_type": "execute_result"
    }
   ],
   "source": [
    "df.head()"
   ]
  },
  {
   "cell_type": "code",
   "execution_count": 111,
   "id": "fea7e649",
   "metadata": {},
   "outputs": [
    {
     "name": "stdout",
     "output_type": "stream",
     "text": [
      "<class 'pandas.core.frame.DataFrame'>\n",
      "DatetimeIndex: 42 entries, 1980-01-01 to 2021-01-01\n",
      "Data columns (total 1 columns):\n",
      " #   Column  Non-Null Count  Dtype\n",
      "---  ------  --------------  -----\n",
      " 0   cases   42 non-null     int64\n",
      "dtypes: int64(1)\n",
      "memory usage: 672.0 bytes\n"
     ]
    }
   ],
   "source": [
    "df.info()"
   ]
  },
  {
   "cell_type": "code",
   "execution_count": 112,
   "id": "314d0f7e",
   "metadata": {},
   "outputs": [
    {
     "data": {
      "text/plain": [
       "<AxesSubplot:xlabel='cases', ylabel='Count'>"
      ]
     },
     "execution_count": 112,
     "metadata": {},
     "output_type": "execute_result"
    },
    {
     "data": {
      "image/png": "[encoded data removed]",
      "text/plain": [
       "<Figure size 432x288 with 1 Axes>"
      ]
     },
     "metadata": {
      "needs_background": "light"
     },
     "output_type": "display_data"
    }
   ],
   "source": [
    "import seaborn as sns\n",
    "sns.histplot(x=df['cases'])"
   ]
  },
  {
   "cell_type": "code",
   "execution_count": 113,
   "id": "5632bcea",
   "metadata": {},
   "outputs": [
    {
     "data": {
      "image/png": "[encoded data removed]",
      "text/plain": [
       "<Figure size 432x288 with 1 Axes>"
      ]
     },
     "metadata": {
      "needs_background": "light"
     },
     "output_type": "display_data"
    }
   ],
   "source": [
    "sns.histplot(x=df['cases'], bins=10, kde=True);"
   ]
  },
  {
   "cell_type": "code",
   "execution_count": 114,
   "id": "dfe031a5",
   "metadata": {},
   "outputs": [
    {
     "data": {
      "image/png": "[encoded data removed]",
      "text/plain": [
       "<Figure size 432x288 with 1 Axes>"
      ]
     },
     "metadata": {
      "needs_background": "light"
     },
     "output_type": "display_data"
    }
   ],
   "source": [
    "sns.histplot(x=df['cases'], \n",
    "             bins=10, kde=False,\n",
    "             stat=\"probability\",\n",
    "             color='green' \n",
    "            );"
   ]
  },
  {
   "cell_type": "code",
   "execution_count": 115,
   "id": "1ebedb03",
   "metadata": {},
   "outputs": [
    {
     "data": {
      "image/png": "[encoded data removed]",
      "text/plain": [
       "<Figure size 432x288 with 1 Axes>"
      ]
     },
     "metadata": {
      "needs_background": "light"
     },
     "output_type": "display_data"
    }
   ],
   "source": [
    "sns.boxplot(x=df['cases']);"
   ]
  },
  {
   "cell_type": "code",
   "execution_count": 116,
   "id": "2a448b6d",
   "metadata": {},
   "outputs": [
    {
     "data": {
      "image/png": "[encoded data removed]",
      "text/plain": [
       "<Figure size 432x288 with 1 Axes>"
      ]
     },
     "metadata": {
      "needs_background": "light"
     },
     "output_type": "display_data"
    }
   ],
   "source": [
    "sns.boxplot(y=df['cases'],  color='lightgreen', showmeans=True);"
   ]
  },
  {
   "cell_type": "code",
   "execution_count": 117,
   "id": "ffca57db",
   "metadata": {},
   "outputs": [
    {
     "data": {
      "image/png": "[encoded data removed]",
      "text/plain": [
       "<Figure size 432x288 with 1 Axes>"
      ]
     },
     "metadata": {
      "needs_background": "light"
     },
     "output_type": "display_data"
    }
   ],
   "source": [
    "import pandas as pd\n",
    "import numpy as np\n",
    "\n",
    "df['logcases'] = np.log(df['cases'])\n",
    "\n",
    "import seaborn as sns\n",
    "sns.kdeplot(x=df['logcases'], shade=True, linewidth=2);"
   ]
  },
  {
   "cell_type": "code",
   "execution_count": null,
   "id": "c3732472",
   "metadata": {},
   "outputs": [],
   "source": []
  },
  {
   "cell_type": "code",
   "execution_count": 118,
   "id": "90ea1ff5",
   "metadata": {},
   "outputs": [],
   "source": [
    "import math\n",
    "import statistics\n",
    "import numpy as np\n",
    "import scipy.stats\n",
    "import pandas as pd"
   ]
  },
  {
   "cell_type": "code",
   "execution_count": 119,
   "id": "685a8c5f",
   "metadata": {},
   "outputs": [],
   "source": [
    "# Measures of Central Tendency"
   ]
  },
  {
   "cell_type": "code",
   "execution_count": 120,
   "id": "2545861a",
   "metadata": {},
   "outputs": [],
   "source": [
    "# Mean"
   ]
  },
  {
   "cell_type": "code",
   "execution_count": 121,
   "id": "c3ffdd61",
   "metadata": {},
   "outputs": [
    {
     "data": {
      "text/plain": [
       "81.76190476190476"
      ]
     },
     "execution_count": 121,
     "metadata": {},
     "output_type": "execute_result"
    }
   ],
   "source": [
    "mean_ = sum(series) / len(series)\n",
    "mean_\n"
   ]
  },
  {
   "cell_type": "code",
   "execution_count": 122,
   "id": "bfcc602d",
   "metadata": {},
   "outputs": [
    {
     "data": {
      "text/plain": [
       "81.76190476190476"
      ]
     },
     "execution_count": 122,
     "metadata": {},
     "output_type": "execute_result"
    }
   ],
   "source": [
    "mean_ = statistics.mean(series)\n",
    "mean_"
   ]
  },
  {
   "cell_type": "code",
   "execution_count": 123,
   "id": "b1f3c13c",
   "metadata": {},
   "outputs": [
    {
     "data": {
      "text/plain": [
       "81.76190476190476"
      ]
     },
     "execution_count": 123,
     "metadata": {},
     "output_type": "execute_result"
    }
   ],
   "source": [
    "mean_ = statistics.fmean(series)\n",
    "mean_"
   ]
  },
  {
   "cell_type": "code",
   "execution_count": 124,
   "id": "a248b08c",
   "metadata": {},
   "outputs": [
    {
     "data": {
      "text/plain": [
       "81.76190476190476"
      ]
     },
     "execution_count": 124,
     "metadata": {},
     "output_type": "execute_result"
    }
   ],
   "source": [
    "mean_ = np.mean(series)\n",
    "mean_\n"
   ]
  },
  {
   "cell_type": "code",
   "execution_count": 125,
   "id": "5c45aa4e",
   "metadata": {},
   "outputs": [
    {
     "data": {
      "text/plain": [
       "81.76190476190476"
      ]
     },
     "execution_count": 125,
     "metadata": {},
     "output_type": "execute_result"
    }
   ],
   "source": [
    "mean_ = series.mean()\n",
    "mean_"
   ]
  },
  {
   "cell_type": "code",
   "execution_count": 126,
   "id": "2b7f1b71",
   "metadata": {},
   "outputs": [],
   "source": [
    "# Harmonic Mean"
   ]
  },
  {
   "cell_type": "code",
   "execution_count": 127,
   "id": "e044ca74",
   "metadata": {},
   "outputs": [
    {
     "data": {
      "text/plain": [
       "62.398526705466594"
      ]
     },
     "execution_count": 127,
     "metadata": {},
     "output_type": "execute_result"
    }
   ],
   "source": [
    "hmean = len(series) / sum(1 / item for item in series)\n",
    "hmean\n"
   ]
  },
  {
   "cell_type": "code",
   "execution_count": 128,
   "id": "06a96a11",
   "metadata": {},
   "outputs": [
    {
     "data": {
      "text/plain": [
       "62.39852670546655"
      ]
     },
     "execution_count": 128,
     "metadata": {},
     "output_type": "execute_result"
    }
   ],
   "source": [
    "hmean = statistics.harmonic_mean(series)\n",
    "hmean\n"
   ]
  },
  {
   "cell_type": "code",
   "execution_count": 129,
   "id": "92232e1c",
   "metadata": {},
   "outputs": [
    {
     "data": {
      "text/plain": [
       "62.39852670546656"
      ]
     },
     "execution_count": 129,
     "metadata": {},
     "output_type": "execute_result"
    }
   ],
   "source": [
    "scipy.stats.hmean(series)"
   ]
  },
  {
   "cell_type": "code",
   "execution_count": 130,
   "id": "2a88da4b",
   "metadata": {},
   "outputs": [],
   "source": [
    "# Geometric Mean"
   ]
  },
  {
   "cell_type": "code",
   "execution_count": 131,
   "id": "cc61c0b0",
   "metadata": {},
   "outputs": [
    {
     "data": {
      "text/plain": [
       "72.92853003514415"
      ]
     },
     "execution_count": 131,
     "metadata": {},
     "output_type": "execute_result"
    }
   ],
   "source": [
    "gmean = 1\n",
    "for item in series:\n",
    "     gmean *= item\n",
    "\n",
    "gmean **= 1 / len(series)\n",
    "gmean"
   ]
  },
  {
   "cell_type": "code",
   "execution_count": 132,
   "id": "7a336624",
   "metadata": {},
   "outputs": [
    {
     "data": {
      "text/plain": [
       "72.92853003514416"
      ]
     },
     "execution_count": 132,
     "metadata": {},
     "output_type": "execute_result"
    }
   ],
   "source": [
    "gmean = statistics.geometric_mean(series)\n",
    "gmean\n"
   ]
  },
  {
   "cell_type": "code",
   "execution_count": 133,
   "id": "887e0cbd",
   "metadata": {},
   "outputs": [
    {
     "data": {
      "text/plain": [
       "72.92853003514416"
      ]
     },
     "execution_count": 133,
     "metadata": {},
     "output_type": "execute_result"
    }
   ],
   "source": [
    "scipy.stats.gmean(series)"
   ]
  },
  {
   "cell_type": "code",
   "execution_count": 134,
   "id": "21e612da",
   "metadata": {},
   "outputs": [],
   "source": [
    "# Median"
   ]
  },
  {
   "cell_type": "code",
   "execution_count": 135,
   "id": "b8aac24f",
   "metadata": {},
   "outputs": [
    {
     "data": {
      "text/plain": [
       "84.5"
      ]
     },
     "execution_count": 135,
     "metadata": {},
     "output_type": "execute_result"
    }
   ],
   "source": [
    "n = len(series)\n",
    "if n % 2:\n",
    "     median_ = sorted(series)[round(0.5*(n-1))]\n",
    "else:\n",
    "     series_ord, index = sorted(series), round(0.5 * n)\n",
    "\n",
    "median_ = 0.5 * (series_ord[index-1] + series_ord[index])\n",
    "\n",
    "median_"
   ]
  },
  {
   "cell_type": "code",
   "execution_count": 136,
   "id": "cb40beda",
   "metadata": {},
   "outputs": [
    {
     "data": {
      "text/plain": [
       "84.5"
      ]
     },
     "execution_count": 136,
     "metadata": {},
     "output_type": "execute_result"
    }
   ],
   "source": [
    "median_ = statistics.median(series)\n",
    "median_\n"
   ]
  },
  {
   "cell_type": "code",
   "execution_count": 137,
   "id": "f4411ffb",
   "metadata": {},
   "outputs": [
    {
     "data": {
      "text/plain": [
       "85"
      ]
     },
     "execution_count": 137,
     "metadata": {},
     "output_type": "execute_result"
    }
   ],
   "source": [
    "median_ = statistics.median(series[:-1])\n",
    "median_\n"
   ]
  },
  {
   "cell_type": "code",
   "execution_count": 138,
   "id": "3a6fe416",
   "metadata": {},
   "outputs": [
    {
     "data": {
      "text/plain": [
       "85"
      ]
     },
     "execution_count": 138,
     "metadata": {},
     "output_type": "execute_result"
    }
   ],
   "source": [
    "statistics.median_low(series[:-1])\n",
    "\n"
   ]
  },
  {
   "cell_type": "code",
   "execution_count": 139,
   "id": "dc29e8af",
   "metadata": {},
   "outputs": [
    {
     "data": {
      "text/plain": [
       "85"
      ]
     },
     "execution_count": 139,
     "metadata": {},
     "output_type": "execute_result"
    }
   ],
   "source": [
    "statistics.median_high(series[:-1])\n"
   ]
  },
  {
   "cell_type": "code",
   "execution_count": 140,
   "id": "a4c84ecd",
   "metadata": {},
   "outputs": [
    {
     "data": {
      "text/plain": [
       "84.5"
      ]
     },
     "execution_count": 140,
     "metadata": {},
     "output_type": "execute_result"
    }
   ],
   "source": [
    "median_ = np.median(series)\n",
    "median_\n",
    "\n"
   ]
  },
  {
   "cell_type": "code",
   "execution_count": 141,
   "id": "766ff325",
   "metadata": {},
   "outputs": [
    {
     "data": {
      "text/plain": [
       "85.0"
      ]
     },
     "execution_count": 141,
     "metadata": {},
     "output_type": "execute_result"
    }
   ],
   "source": [
    "median_ = np.median(series[:-1])\n",
    "median_\n"
   ]
  },
  {
   "cell_type": "code",
   "execution_count": 142,
   "id": "241eb7e9",
   "metadata": {},
   "outputs": [
    {
     "data": {
      "text/plain": [
       "84.5"
      ]
     },
     "execution_count": 142,
     "metadata": {},
     "output_type": "execute_result"
    }
   ],
   "source": [
    "series.median()\n"
   ]
  },
  {
   "cell_type": "code",
   "execution_count": 143,
   "id": "7a6a071b",
   "metadata": {},
   "outputs": [],
   "source": [
    "# Mode"
   ]
  },
  {
   "cell_type": "code",
   "execution_count": 144,
   "id": "e68b8f8e",
   "metadata": {},
   "outputs": [
    {
     "data": {
      "text/plain": [
       "99"
      ]
     },
     "execution_count": 144,
     "metadata": {},
     "output_type": "execute_result"
    }
   ],
   "source": [
    "mode_ = statistics.mode(series)\n",
    "mode_\n",
    "\n"
   ]
  },
  {
   "cell_type": "code",
   "execution_count": 145,
   "id": "06ad30b1",
   "metadata": {},
   "outputs": [
    {
     "data": {
      "text/plain": [
       "[99]"
      ]
     },
     "execution_count": 145,
     "metadata": {},
     "output_type": "execute_result"
    }
   ],
   "source": [
    "mode_ = statistics.multimode(series)\n",
    "mode_\n"
   ]
  },
  {
   "cell_type": "code",
   "execution_count": 146,
   "id": "d05bc757",
   "metadata": {},
   "outputs": [
    {
     "data": {
      "text/plain": [
       "99"
      ]
     },
     "execution_count": 146,
     "metadata": {},
     "output_type": "execute_result"
    }
   ],
   "source": [
    "\n",
    "statistics.mode(series)  # Raises StatisticsError\n"
   ]
  },
  {
   "cell_type": "code",
   "execution_count": 147,
   "id": "6288efd7",
   "metadata": {},
   "outputs": [
    {
     "data": {
      "text/plain": [
       "[99]"
      ]
     },
     "execution_count": 147,
     "metadata": {},
     "output_type": "execute_result"
    }
   ],
   "source": [
    "statistics.multimode(series)\n"
   ]
  },
  {
   "cell_type": "code",
   "execution_count": 151,
   "id": "140967b2",
   "metadata": {},
   "outputs": [
    {
     "data": {
      "text/plain": [
       "ModeResult(mode=array([99], dtype=int64), count=array([3]))"
      ]
     },
     "execution_count": 151,
     "metadata": {},
     "output_type": "execute_result"
    }
   ],
   "source": [
    "u = np.array(series)\n",
    "mode_ = scipy.stats.mode(series)\n",
    "mode_\n"
   ]
  },
  {
   "cell_type": "code",
   "execution_count": 152,
   "id": "b3487d3a",
   "metadata": {},
   "outputs": [
    {
     "data": {
      "text/plain": [
       "ModeResult(mode=array([99], dtype=int64), count=array([3]))"
      ]
     },
     "execution_count": 152,
     "metadata": {},
     "output_type": "execute_result"
    }
   ],
   "source": [
    "mode_ = scipy.stats.mode(series)\n",
    "mode_\n"
   ]
  },
  {
   "cell_type": "code",
   "execution_count": 153,
   "id": "14e35e1f",
   "metadata": {},
   "outputs": [
    {
     "data": {
      "text/plain": [
       "array([99], dtype=int64)"
      ]
     },
     "execution_count": 153,
     "metadata": {},
     "output_type": "execute_result"
    }
   ],
   "source": [
    "mode_.mode\n",
    "\n"
   ]
  },
  {
   "cell_type": "code",
   "execution_count": 154,
   "id": "d339af41",
   "metadata": {},
   "outputs": [
    {
     "data": {
      "text/plain": [
       "array([3])"
      ]
     },
     "execution_count": 154,
     "metadata": {},
     "output_type": "execute_result"
    }
   ],
   "source": [
    "mode_.count\n"
   ]
  },
  {
   "cell_type": "code",
   "execution_count": 155,
   "id": "f37cea7f",
   "metadata": {},
   "outputs": [
    {
     "data": {
      "text/plain": [
       "0    99\n",
       "dtype: int64"
      ]
     },
     "execution_count": 155,
     "metadata": {},
     "output_type": "execute_result"
    }
   ],
   "source": [
    "series.mode()"
   ]
  },
  {
   "cell_type": "code",
   "execution_count": null,
   "id": "5645e6eb",
   "metadata": {},
   "outputs": [],
   "source": [
    "# Measures of Variability"
   ]
  },
  {
   "cell_type": "code",
   "execution_count": null,
   "id": "f679c1bd",
   "metadata": {},
   "outputs": [],
   "source": [
    "# Variance"
   ]
  },
  {
   "cell_type": "code",
   "execution_count": 157,
   "id": "260d6758",
   "metadata": {},
   "outputs": [
    {
     "data": {
      "text/plain": [
       "1174.966318234611"
      ]
     },
     "execution_count": 157,
     "metadata": {},
     "output_type": "execute_result"
    }
   ],
   "source": [
    "n = len(series)\n",
    "mean_ = sum(series) / n\n",
    "var_ = sum((item - mean_)**2 for item in series) / (n - 1)\n",
    "var_\n"
   ]
  },
  {
   "cell_type": "code",
   "execution_count": 158,
   "id": "3d20ad29",
   "metadata": {},
   "outputs": [
    {
     "data": {
      "text/plain": [
       "1174.966318234611"
      ]
     },
     "execution_count": 158,
     "metadata": {},
     "output_type": "execute_result"
    }
   ],
   "source": [
    "var_ = statistics.variance(series)\n",
    "var_\n"
   ]
  },
  {
   "cell_type": "code",
   "execution_count": 159,
   "id": "c9a9f93b",
   "metadata": {},
   "outputs": [
    {
     "data": {
      "text/plain": [
       "1174.966318234611"
      ]
     },
     "execution_count": 159,
     "metadata": {},
     "output_type": "execute_result"
    }
   ],
   "source": [
    "statistics.variance(series)\n"
   ]
  },
  {
   "cell_type": "code",
   "execution_count": null,
   "id": "321ae2e9",
   "metadata": {},
   "outputs": [],
   "source": [
    "# Standard Deviation"
   ]
  },
  {
   "cell_type": "code",
   "execution_count": 160,
   "id": "65e94032",
   "metadata": {},
   "outputs": [
    {
     "data": {
      "text/plain": [
       "34.277781699442144"
      ]
     },
     "execution_count": 160,
     "metadata": {},
     "output_type": "execute_result"
    }
   ],
   "source": [
    "std_ = var_ ** 0.5\n",
    "std_\n"
   ]
  },
  {
   "cell_type": "code",
   "execution_count": 162,
   "id": "93e2306e",
   "metadata": {},
   "outputs": [
    {
     "data": {
      "text/plain": [
       "34.277781699442144"
      ]
     },
     "execution_count": 162,
     "metadata": {},
     "output_type": "execute_result"
    }
   ],
   "source": [
    "std_ = statistics.stdev(series)\n",
    "std_\n"
   ]
  },
  {
   "cell_type": "code",
   "execution_count": null,
   "id": "34b57ab2",
   "metadata": {},
   "outputs": [],
   "source": [
    "# Skewness"
   ]
  },
  {
   "cell_type": "code",
   "execution_count": 164,
   "id": "82dae407",
   "metadata": {},
   "outputs": [
    {
     "data": {
      "text/plain": [
       "-0.14283622719079786"
      ]
     },
     "execution_count": 164,
     "metadata": {},
     "output_type": "execute_result"
    }
   ],
   "source": [
    "\n",
    "n = len(series)\n",
    "mean_ = sum(series) / n\n",
    "var_ = sum((item - mean_)**2 for item in series) / (n - 1)\n",
    "std_ = var_ ** 0.5\n",
    "skew_ = (sum((item - mean_)**3 for item in series)\n",
    "         * n / ((n - 1) * (n - 2) * std_**3))\n",
    "skew_\n"
   ]
  },
  {
   "cell_type": "code",
   "execution_count": 165,
   "id": "cc28137e",
   "metadata": {},
   "outputs": [
    {
     "data": {
      "text/plain": [
       "-0.14283622719079744"
      ]
     },
     "execution_count": 165,
     "metadata": {},
     "output_type": "execute_result"
    }
   ],
   "source": [
    "\n",
    "scipy.stats.skew(series, bias=False)\n",
    "\n",
    "\n"
   ]
  },
  {
   "cell_type": "code",
   "execution_count": 166,
   "id": "52c38614",
   "metadata": {},
   "outputs": [
    {
     "data": {
      "text/plain": [
       "-0.14283622719079747"
      ]
     },
     "execution_count": 166,
     "metadata": {},
     "output_type": "execute_result"
    }
   ],
   "source": [
    "\n",
    "series.skew()\n",
    "\n"
   ]
  },
  {
   "cell_type": "code",
   "execution_count": null,
   "id": "6116a373",
   "metadata": {},
   "outputs": [],
   "source": [
    "# Percentiles"
   ]
  },
  {
   "cell_type": "code",
   "execution_count": 167,
   "id": "63c50e01",
   "metadata": {},
   "outputs": [
    {
     "data": {
      "text/plain": [
       "[84.5]"
      ]
     },
     "execution_count": 167,
     "metadata": {},
     "output_type": "execute_result"
    }
   ],
   "source": [
    "\n",
    "statistics.quantiles(series, n=2)\n",
    "\n"
   ]
  },
  {
   "cell_type": "code",
   "execution_count": 169,
   "id": "d82b40cb",
   "metadata": {},
   "outputs": [
    {
     "data": {
      "text/plain": [
       "[60.0, 84.5, 103.5]"
      ]
     },
     "execution_count": 169,
     "metadata": {},
     "output_type": "execute_result"
    }
   ],
   "source": [
    "statistics.quantiles(series, n=4, method='inclusive')\n"
   ]
  },
  {
   "cell_type": "code",
   "execution_count": null,
   "id": "c18af3dd",
   "metadata": {},
   "outputs": [],
   "source": [
    "# Convert the series into a NumPy array"
   ]
  },
  {
   "cell_type": "code",
   "execution_count": 170,
   "id": "e9915d02",
   "metadata": {},
   "outputs": [
    {
     "data": {
      "text/plain": [
       "25.150000000000002"
      ]
     },
     "execution_count": 170,
     "metadata": {},
     "output_type": "execute_result"
    }
   ],
   "source": [
    "y = np.array(series)\n",
    "np.percentile(y, 5)\n"
   ]
  },
  {
   "cell_type": "code",
   "execution_count": 171,
   "id": "85b1e4bc",
   "metadata": {},
   "outputs": [
    {
     "data": {
      "text/plain": [
       "135.95"
      ]
     },
     "execution_count": 171,
     "metadata": {},
     "output_type": "execute_result"
    }
   ],
   "source": [
    "\n",
    "np.percentile(y, 95)\n"
   ]
  },
  {
   "cell_type": "code",
   "execution_count": 172,
   "id": "ad84fa8e",
   "metadata": {},
   "outputs": [
    {
     "data": {
      "text/plain": [
       "array([ 60. ,  84.5, 103.5])"
      ]
     },
     "execution_count": 172,
     "metadata": {},
     "output_type": "execute_result"
    }
   ],
   "source": [
    "np.percentile(y, [25, 50, 75])\n"
   ]
  },
  {
   "cell_type": "code",
   "execution_count": 173,
   "id": "be8da896",
   "metadata": {},
   "outputs": [
    {
     "data": {
      "text/plain": [
       "84.5"
      ]
     },
     "execution_count": 173,
     "metadata": {},
     "output_type": "execute_result"
    }
   ],
   "source": [
    "\n",
    "np.median(y)\n"
   ]
  },
  {
   "cell_type": "code",
   "execution_count": 174,
   "id": "cddbcd2a",
   "metadata": {},
   "outputs": [
    {
     "data": {
      "text/plain": [
       "25.150000000000002"
      ]
     },
     "execution_count": 174,
     "metadata": {},
     "output_type": "execute_result"
    }
   ],
   "source": [
    "np.quantile(y, 0.05)\n"
   ]
  },
  {
   "cell_type": "code",
   "execution_count": 175,
   "id": "eeda6267",
   "metadata": {},
   "outputs": [
    {
     "data": {
      "text/plain": [
       "135.95"
      ]
     },
     "execution_count": 175,
     "metadata": {},
     "output_type": "execute_result"
    }
   ],
   "source": [
    "np.quantile(y, 0.95)\n",
    "\n"
   ]
  },
  {
   "cell_type": "code",
   "execution_count": 176,
   "id": "5a7153f2",
   "metadata": {},
   "outputs": [
    {
     "data": {
      "text/plain": [
       "array([ 60. ,  84.5, 103.5])"
      ]
     },
     "execution_count": 176,
     "metadata": {},
     "output_type": "execute_result"
    }
   ],
   "source": [
    "np.quantile(y, [0.25, 0.5, 0.75])\n",
    "\n"
   ]
  },
  {
   "cell_type": "code",
   "execution_count": 189,
   "id": "1bf7216f",
   "metadata": {},
   "outputs": [],
   "source": [
    "#z = pd.Series(y)\n",
    "#z"
   ]
  },
  {
   "cell_type": "code",
   "execution_count": 190,
   "id": "1584aad9",
   "metadata": {},
   "outputs": [],
   "source": [
    "#z.quantile(0.05)\n",
    "#z\n",
    "\n"
   ]
  },
  {
   "cell_type": "code",
   "execution_count": 180,
   "id": "36487af9",
   "metadata": {},
   "outputs": [
    {
     "data": {
      "text/plain": [
       "135.95"
      ]
     },
     "execution_count": 180,
     "metadata": {},
     "output_type": "execute_result"
    }
   ],
   "source": [
    "z.quantile(0.95)\n",
    "\n"
   ]
  },
  {
   "cell_type": "code",
   "execution_count": 181,
   "id": "c0a9304b",
   "metadata": {},
   "outputs": [
    {
     "data": {
      "text/plain": [
       "0.25     60.0\n",
       "0.50     84.5\n",
       "0.75    103.5\n",
       "dtype: float64"
      ]
     },
     "execution_count": 181,
     "metadata": {},
     "output_type": "execute_result"
    }
   ],
   "source": [
    "z.quantile([0.25, 0.5, 0.75])\n",
    "\n"
   ]
  },
  {
   "cell_type": "code",
   "execution_count": null,
   "id": "df992979",
   "metadata": {},
   "outputs": [],
   "source": []
  }
 ],
 "metadata": {
  "kernelspec": {
   "display_name": "Python 3 (ipykernel)",
   "language": "python",
   "name": "python3"
  },
  "language_info": {
   "codemirror_mode": {
    "name": "ipython",
    "version": 3
   },
   "file_extension": ".py",
   "mimetype": "text/x-python",
   "name": "python",
   "nbconvert_exporter": "python",
   "pygments_lexer": "ipython3",
   "version": "3.9.7"
  }
 },
 "nbformat": 4,
 "nbformat_minor": 5
}
