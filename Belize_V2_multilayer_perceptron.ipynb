{
 "cells": [
  {
   "cell_type": "code",
   "execution_count": null,
   "id": "93aed8ee",
   "metadata": {},
   "outputs": [],
   "source": [
    "# Multilayer perceptron model"
   ]
  },
  {
   "cell_type": "code",
   "execution_count": 9,
   "id": "4f9f14a6",
   "metadata": {},
   "outputs": [
    {
     "name": "stdout",
     "output_type": "stream",
     "text": [
      "year\n",
      "1980-01-01     21\n",
      "1981-01-01     33\n",
      "1982-01-01     44\n",
      "1983-01-01    140\n",
      "1984-01-01     35\n",
      "Name: cases, dtype: int64\n"
     ]
    },
    {
     "data": {
      "image/png": "[encoded data removed]",
      "text/plain": [
       "<Figure size 432x288 with 1 Axes>"
      ]
     },
     "metadata": {
      "needs_background": "light"
     },
     "output_type": "display_data"
    }
   ],
   "source": [
    "from pandas import read_csv\n",
    "from matplotlib import pyplot\n",
    "from datetime import datetime\n",
    "import pandas as pd\n",
    "\n",
    "series = read_csv('belize_tb_data.csv', header=0, parse_dates=[0], index_col=0, squeeze=True)\n",
    "print(series.head())\n",
    "series.plot()\n",
    "pyplot.show()"
   ]
  },
  {
   "cell_type": "code",
   "execution_count": 10,
   "id": "1ba1a938",
   "metadata": {},
   "outputs": [],
   "source": [
    "import numpy as np\n",
    "import matplotlib.pyplot as plt\n",
    "import pandas as pd\n",
    "from tensorflow.keras.models import Sequential\n",
    "from tensorflow.keras.layers import Dense"
   ]
  },
  {
   "cell_type": "code",
   "execution_count": null,
   "id": "4b0ecd8c",
   "metadata": {},
   "outputs": [],
   "source": []
  },
  {
   "cell_type": "code",
   "execution_count": 11,
   "id": "40160fca",
   "metadata": {},
   "outputs": [],
   "source": [
    "# load the dataset\n",
    "dataframe = pd.read_csv('belize_tb_data.csv', usecols=[1], engine='python')\n",
    "dataset = dataframe.values\n",
    "dataset = dataset.astype('float32')"
   ]
  },
  {
   "cell_type": "code",
   "execution_count": 12,
   "id": "f40bdbb3",
   "metadata": {},
   "outputs": [
    {
     "name": "stdout",
     "output_type": "stream",
     "text": [
      "28 14\n"
     ]
    }
   ],
   "source": [
    "# split into train and test sets\n",
    "train_size = int(len(dataset) * 0.67)\n",
    "test_size = len(dataset) - train_size\n",
    "train, test = dataset[0:train_size,:], dataset[train_size:len(dataset),:]\n",
    "print(len(train), len(test))"
   ]
  },
  {
   "cell_type": "code",
   "execution_count": 13,
   "id": "ebb3779b",
   "metadata": {},
   "outputs": [],
   "source": [
    "# convert an array of values into a dataset matrix\n",
    "def create_dataset(dataset, look_back=1):\n",
    "\tdataX, dataY = [], []\n",
    "\tfor i in range(len(dataset)-look_back-1):\n",
    "\t\ta = dataset[i:(i+look_back), 0]\n",
    "\t\tdataX.append(a)\n",
    "\t\tdataY.append(dataset[i + look_back, 0])\n",
    "\treturn np.array(dataX), np.array(dataY)"
   ]
  },
  {
   "cell_type": "code",
   "execution_count": 14,
   "id": "4689c361",
   "metadata": {},
   "outputs": [],
   "source": [
    "# reshape into X=t and Y=t+1\n",
    "look_back = 1\n",
    "trainX, trainY = create_dataset(train, look_back)\n",
    "testX, testY = create_dataset(test, look_back)"
   ]
  },
  {
   "cell_type": "code",
   "execution_count": 15,
   "id": "26a6b1ed",
   "metadata": {},
   "outputs": [
    {
     "name": "stdout",
     "output_type": "stream",
     "text": [
      "Epoch 1/10\n",
      "13/13 - 1s - loss: 5707.9473 - 531ms/epoch - 41ms/step\n",
      "Epoch 2/10\n",
      "13/13 - 0s - loss: 5532.0176 - 30ms/epoch - 2ms/step\n",
      "Epoch 3/10\n",
      "13/13 - 0s - loss: 5342.9639 - 0s/epoch - 0s/step\n",
      "Epoch 4/10\n",
      "13/13 - 0s - loss: 5158.2896 - 16ms/epoch - 1ms/step\n",
      "Epoch 5/10\n",
      "13/13 - 0s - loss: 4964.4976 - 19ms/epoch - 1ms/step\n",
      "Epoch 6/10\n",
      "13/13 - 0s - loss: 4768.3901 - 12ms/epoch - 885us/step\n",
      "Epoch 7/10\n",
      "13/13 - 0s - loss: 4584.7026 - 3ms/epoch - 224us/step\n",
      "Epoch 8/10\n",
      "13/13 - 0s - loss: 4370.7974 - 18ms/epoch - 1ms/step\n",
      "Epoch 9/10\n",
      "13/13 - 0s - loss: 4197.5894 - 13ms/epoch - 1ms/step\n",
      "Epoch 10/10\n",
      "13/13 - 0s - loss: 3985.3958 - 0s/epoch - 0s/step\n"
     ]
    },
    {
     "data": {
      "text/plain": [
       "<keras.callbacks.History at 0x231adf12880>"
      ]
     },
     "execution_count": 15,
     "metadata": {},
     "output_type": "execute_result"
    }
   ],
   "source": [
    "# create and fit Multilayer Perceptron model\n",
    "model = Sequential()\n",
    "model.add(Dense(8, input_shape=(look_back,), activation='relu'))\n",
    "model.add(Dense(1))\n",
    "model.compile(loss='mean_squared_error', optimizer='adam')\n",
    "#model.fit(trainX, trainY, epochs=200, batch_size=2, verbose=2)\n",
    "model.fit(trainX, trainY, epochs=10, batch_size=2, verbose=2)"
   ]
  },
  {
   "cell_type": "code",
   "execution_count": null,
   "id": "af85fe20",
   "metadata": {},
   "outputs": [],
   "source": []
  },
  {
   "cell_type": "code",
   "execution_count": 16,
   "id": "462fd33d",
   "metadata": {},
   "outputs": [],
   "source": [
    "# Errors"
   ]
  },
  {
   "cell_type": "code",
   "execution_count": 17,
   "id": "a79991ca",
   "metadata": {},
   "outputs": [
    {
     "name": "stdout",
     "output_type": "stream",
     "text": [
      "Train Score: 3896.21 MSE (62.42 RMSE)\n",
      "Test Score: 5053.53 MSE (71.09 RMSE)\n"
     ]
    }
   ],
   "source": [
    "import math\n",
    "\n",
    "# Estimate model performance\n",
    "trainScore = model.evaluate(trainX, trainY, verbose=0)\n",
    "print('Train Score: %.2f MSE (%.2f RMSE)' % (trainScore, math.sqrt(trainScore)))\n",
    "testScore = model.evaluate(testX, testY, verbose=0)\n",
    "print('Test Score: %.2f MSE (%.2f RMSE)' % (testScore, math.sqrt(testScore)))"
   ]
  },
  {
   "cell_type": "code",
   "execution_count": 18,
   "id": "196dbb28",
   "metadata": {},
   "outputs": [
    {
     "name": "stdout",
     "output_type": "stream",
     "text": [
      "[[-12.]\n",
      " [-11.]\n",
      " [-96.]\n",
      " [105.]\n",
      " [ 10.]\n",
      " [  2.]\n",
      " [-18.]\n",
      " [ 13.]\n",
      " [ -2.]\n",
      " [-27.]\n",
      " [-32.]\n",
      " [ 24.]\n",
      " [-15.]\n",
      " [ 21.]\n",
      " [-36.]\n",
      " [ -4.]\n",
      " [ -8.]\n",
      " [-16.]\n",
      " [ 19.]\n",
      " [ -2.]\n",
      " [-30.]\n",
      " [  1.]\n",
      " [ 36.]\n",
      " [ 16.]\n",
      " [-19.]\n",
      " [ 17.]]\n"
     ]
    }
   ],
   "source": [
    "# More error measures, Training Set Forecast Error\n",
    "\n",
    "#Forecast error or Residual Forecast Error\n",
    "\n",
    "# forecast_error = expected_value - predicted_value\n",
    "\n",
    "forecast_errors = [trainX[i] - trainY[i] for i in range(len(trainX))]\n",
    "\n",
    "print(np.array(forecast_errors))"
   ]
  },
  {
   "cell_type": "code",
   "execution_count": 19,
   "id": "f8399ff3",
   "metadata": {},
   "outputs": [
    {
     "name": "stdout",
     "output_type": "stream",
     "text": [
      "[-2.4615386]\n"
     ]
    }
   ],
   "source": [
    "# More error measures, Training Set Bias\n",
    "\n",
    "#Mean Forecast Error or Error Forecast bias\n",
    "\n",
    "# mean_forecast_error = mean(forecast_error)\n",
    "\n",
    "bias = sum(forecast_errors)*1.0/len(trainX)\n",
    "\n",
    "print(bias)"
   ]
  },
  {
   "cell_type": "code",
   "execution_count": 20,
   "id": "d9d0e5d6",
   "metadata": {},
   "outputs": [
    {
     "name": "stdout",
     "output_type": "stream",
     "text": [
      "22.76923\n"
     ]
    }
   ],
   "source": [
    "# More error measures, Training Set MAE\n",
    "\n",
    "#Mean Absolute Error\n",
    "\n",
    "# mean_absolute_error = mean(abs(forecast_error))\n",
    "\n",
    "from sklearn.metrics import mean_absolute_error\n",
    "\n",
    "mae = mean_absolute_error(trainX,trainY)\n",
    "\n",
    "print(mae)"
   ]
  },
  {
   "cell_type": "code",
   "execution_count": 21,
   "id": "8262082f",
   "metadata": {},
   "outputs": [
    {
     "name": "stdout",
     "output_type": "stream",
     "text": [
      "1123.1538\n"
     ]
    }
   ],
   "source": [
    "# More error measures, Training Set MSE\n",
    "\n",
    "#Mean Squared Error\n",
    "\n",
    "# mean_squared_error = mean(forecast_error^2)\n",
    "\n",
    "from sklearn.metrics import mean_squared_error\n",
    "\n",
    "mse = mean_squared_error(trainX,trainY)\n",
    "\n",
    "print(mse)"
   ]
  },
  {
   "cell_type": "code",
   "execution_count": 22,
   "id": "871aa530",
   "metadata": {},
   "outputs": [
    {
     "name": "stdout",
     "output_type": "stream",
     "text": [
      "33.513486965604606\n"
     ]
    }
   ],
   "source": [
    "# More error measures, Training Set, RMSE\n",
    "\n",
    "#Mean Squared Error\n",
    "\n",
    "# Root Mean Squared Error\n",
    "\n",
    "# rmse = sqrt(mean_squared_error)\n",
    "\n",
    "from sklearn.metrics import mean_squared_error\n",
    "from math import sqrt\n",
    "\n",
    "mse = mean_squared_error(trainX,trainY)\n",
    "rmse = sqrt(mse)\n",
    "\n",
    "print(rmse)"
   ]
  },
  {
   "cell_type": "code",
   "execution_count": 23,
   "id": "e736af46",
   "metadata": {},
   "outputs": [
    {
     "name": "stdout",
     "output_type": "stream",
     "text": [
      "[[  0.]\n",
      " [-57.]\n",
      " [ 71.]\n",
      " [-10.]\n",
      " [-37.]\n",
      " [ 49.]\n",
      " [ -6.]\n",
      " [-42.]\n",
      " [  3.]\n",
      " [ 18.]\n",
      " [  8.]\n",
      " [ 13.]]\n"
     ]
    }
   ],
   "source": [
    "# More error measures, Testing Set, Forecast Error\n",
    "\n",
    "#Forecast error or Residual Forecast Error\n",
    "\n",
    "# forecast_error = expected_value - predicted_value\n",
    "\n",
    "forecast_errors = [testX[i] - testY[i] for i in range(len(testX))]\n",
    "\n",
    "print(np.array(forecast_errors))"
   ]
  },
  {
   "cell_type": "code",
   "execution_count": 24,
   "id": "d94e2cfd",
   "metadata": {},
   "outputs": [
    {
     "name": "stdout",
     "output_type": "stream",
     "text": [
      "[0.8333333]\n"
     ]
    }
   ],
   "source": [
    "# More error measures, Testing Set, Bias\n",
    "\n",
    "#Mean Forecast Error or Error Forecast bias\n",
    "\n",
    "# mean_forecast_error = mean(forecast_error)\n",
    "\n",
    "bias = sum(forecast_errors)*1.0/len(testX)\n",
    "\n",
    "print(bias)"
   ]
  },
  {
   "cell_type": "code",
   "execution_count": 25,
   "id": "7269fbfe",
   "metadata": {},
   "outputs": [
    {
     "name": "stdout",
     "output_type": "stream",
     "text": [
      "26.166666\n"
     ]
    }
   ],
   "source": [
    "# More error measures, Testing Set, MAE\n",
    "\n",
    "#Mean Absolute Error\n",
    "\n",
    "# mean_absolute_error = mean(abs(forecast_error))\n",
    "\n",
    "from sklearn.metrics import mean_absolute_error\n",
    "\n",
    "mae = mean_absolute_error(testX,testY)\n",
    "\n",
    "print(mae)"
   ]
  },
  {
   "cell_type": "code",
   "execution_count": 26,
   "id": "1b635738",
   "metadata": {},
   "outputs": [
    {
     "name": "stdout",
     "output_type": "stream",
     "text": [
      "1210.5\n"
     ]
    }
   ],
   "source": [
    "# More error measures, Testing Set, MSE\n",
    "\n",
    "#Mean Squared Error\n",
    "\n",
    "# mean_squared_error = mean(forecast_error^2)\n",
    "\n",
    "from sklearn.metrics import mean_squared_error\n",
    "\n",
    "mse = mean_squared_error(testX,testY)\n",
    "\n",
    "print(mse)"
   ]
  },
  {
   "cell_type": "code",
   "execution_count": 27,
   "id": "b5b22bb7",
   "metadata": {},
   "outputs": [
    {
     "name": "stdout",
     "output_type": "stream",
     "text": [
      "34.792240514229604\n"
     ]
    }
   ],
   "source": [
    "# More error measures, Testing Set, RMSE\n",
    "\n",
    "# Root Mean Squared Error\n",
    "\n",
    "# rmse = sqrt(mean_squared_error)\n",
    "\n",
    "from sklearn.metrics import mean_squared_error\n",
    "from math import sqrt\n",
    "\n",
    "mse = mean_squared_error(testX,testY)\n",
    "rmse = sqrt(mse)\n",
    "\n",
    "print(rmse)"
   ]
  },
  {
   "cell_type": "code",
   "execution_count": null,
   "id": "1bc7ec56",
   "metadata": {},
   "outputs": [],
   "source": []
  },
  {
   "cell_type": "code",
   "execution_count": null,
   "id": "0225d542",
   "metadata": {},
   "outputs": [],
   "source": []
  }
 ],
 "metadata": {
  "kernelspec": {
   "display_name": "Python 3 (ipykernel)",
   "language": "python",
   "name": "python3"
  },
  "language_info": {
   "codemirror_mode": {
    "name": "ipython",
    "version": 3
   },
   "file_extension": ".py",
   "mimetype": "text/x-python",
   "name": "python",
   "nbconvert_exporter": "python",
   "pygments_lexer": "ipython3",
   "version": "3.9.7"
  }
 },
 "nbformat": 4,
 "nbformat_minor": 5
}
